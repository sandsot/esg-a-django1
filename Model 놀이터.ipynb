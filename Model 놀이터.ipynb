{
 "cells": [
  {
   "cell_type": "code",
   "execution_count": 20,
   "id": "7eabb9d8",
   "metadata": {},
   "outputs": [],
   "source": [
    "import os\n",
    "import django \n",
    "\n",
    "os.environ.setdefault(\"DJANGO_SETTINGS_MODULE\", \"do_it_django_prj.settings\")\n",
    "os.environ[\"DJANGO_ALLOW_ASYNC_UNSAFE\"] = \"true\"\n",
    "\n",
    "django.setup()"
   ]
  },
  {
   "cell_type": "code",
   "execution_count": 21,
   "id": "06d04bc7",
   "metadata": {},
   "outputs": [],
   "source": [
    "from diary.models import Memory"
   ]
  },
  {
   "cell_type": "code",
   "execution_count": 23,
   "id": "308d4712",
   "metadata": {},
   "outputs": [
    {
     "data": {
      "text/plain": [
       "<Memory: [3]title#1>"
      ]
     },
     "execution_count": 23,
     "metadata": {},
     "output_type": "execute_result"
    }
   ],
   "source": [
    "# 데이터베이스에 즉시 저장\n",
    "Memory.objects.create(title=\"title#1\",message=\"message#1\")"
   ]
  },
  {
   "cell_type": "code",
   "execution_count": 29,
   "id": "a0451829",
   "metadata": {},
   "outputs": [],
   "source": [
    "memory = Memory()\n",
    "memory.title = \"title#2\"\n",
    "memory.message = \"message#2\"\n",
    "memory.save()\n"
   ]
  },
  {
   "cell_type": "code",
   "execution_count": 30,
   "id": "d289556c",
   "metadata": {},
   "outputs": [
    {
     "data": {
      "text/plain": [
       "<Memory: [3]title#1>"
      ]
     },
     "execution_count": 30,
     "metadata": {},
     "output_type": "execute_result"
    }
   ],
   "source": [
    "memory = Memory.objects.get(pk=3)\n",
    "memory"
   ]
  },
  {
   "cell_type": "code",
   "execution_count": null,
   "id": "70bf9cfb",
   "metadata": {},
   "outputs": [],
   "source": []
  },
  {
   "cell_type": "code",
   "execution_count": 31,
   "id": "72123aa4",
   "metadata": {},
   "outputs": [
    {
     "data": {
      "text/plain": [
       "100"
      ]
     },
     "execution_count": 31,
     "metadata": {},
     "output_type": "execute_result"
    }
   ],
   "source": [
    "# bulk create\n",
    "\n",
    "memory_list=[]\n",
    "\n",
    "for i in range(100):\n",
    "    title=f\"new title #{i}\"\n",
    "    content=f\"new content #{i}\"\n",
    "    memory=Memory(title=title,message=content)\n",
    "    # memory.save() 반복문에서 성능을 위해 매번 save를 호출하지 않는다\n",
    "    \n",
    "    memory_list.append(memory)\n",
    "len(memory_list)"
   ]
  },
  {
   "cell_type": "code",
   "execution_count": 32,
   "id": "3eedeadb",
   "metadata": {},
   "outputs": [
    {
     "data": {
      "text/plain": [
       "[<Memory: [6]new title #0>,\n",
       " <Memory: [7]new title #1>,\n",
       " <Memory: [8]new title #2>,\n",
       " <Memory: [9]new title #3>,\n",
       " <Memory: [10]new title #4>,\n",
       " <Memory: [11]new title #5>,\n",
       " <Memory: [12]new title #6>,\n",
       " <Memory: [13]new title #7>,\n",
       " <Memory: [14]new title #8>,\n",
       " <Memory: [15]new title #9>,\n",
       " <Memory: [16]new title #10>,\n",
       " <Memory: [17]new title #11>,\n",
       " <Memory: [18]new title #12>,\n",
       " <Memory: [19]new title #13>,\n",
       " <Memory: [20]new title #14>,\n",
       " <Memory: [21]new title #15>,\n",
       " <Memory: [22]new title #16>,\n",
       " <Memory: [23]new title #17>,\n",
       " <Memory: [24]new title #18>,\n",
       " <Memory: [25]new title #19>,\n",
       " <Memory: [26]new title #20>,\n",
       " <Memory: [27]new title #21>,\n",
       " <Memory: [28]new title #22>,\n",
       " <Memory: [29]new title #23>,\n",
       " <Memory: [30]new title #24>,\n",
       " <Memory: [31]new title #25>,\n",
       " <Memory: [32]new title #26>,\n",
       " <Memory: [33]new title #27>,\n",
       " <Memory: [34]new title #28>,\n",
       " <Memory: [35]new title #29>,\n",
       " <Memory: [36]new title #30>,\n",
       " <Memory: [37]new title #31>,\n",
       " <Memory: [38]new title #32>,\n",
       " <Memory: [39]new title #33>,\n",
       " <Memory: [40]new title #34>,\n",
       " <Memory: [41]new title #35>,\n",
       " <Memory: [42]new title #36>,\n",
       " <Memory: [43]new title #37>,\n",
       " <Memory: [44]new title #38>,\n",
       " <Memory: [45]new title #39>,\n",
       " <Memory: [46]new title #40>,\n",
       " <Memory: [47]new title #41>,\n",
       " <Memory: [48]new title #42>,\n",
       " <Memory: [49]new title #43>,\n",
       " <Memory: [50]new title #44>,\n",
       " <Memory: [51]new title #45>,\n",
       " <Memory: [52]new title #46>,\n",
       " <Memory: [53]new title #47>,\n",
       " <Memory: [54]new title #48>,\n",
       " <Memory: [55]new title #49>,\n",
       " <Memory: [56]new title #50>,\n",
       " <Memory: [57]new title #51>,\n",
       " <Memory: [58]new title #52>,\n",
       " <Memory: [59]new title #53>,\n",
       " <Memory: [60]new title #54>,\n",
       " <Memory: [61]new title #55>,\n",
       " <Memory: [62]new title #56>,\n",
       " <Memory: [63]new title #57>,\n",
       " <Memory: [64]new title #58>,\n",
       " <Memory: [65]new title #59>,\n",
       " <Memory: [66]new title #60>,\n",
       " <Memory: [67]new title #61>,\n",
       " <Memory: [68]new title #62>,\n",
       " <Memory: [69]new title #63>,\n",
       " <Memory: [70]new title #64>,\n",
       " <Memory: [71]new title #65>,\n",
       " <Memory: [72]new title #66>,\n",
       " <Memory: [73]new title #67>,\n",
       " <Memory: [74]new title #68>,\n",
       " <Memory: [75]new title #69>,\n",
       " <Memory: [76]new title #70>,\n",
       " <Memory: [77]new title #71>,\n",
       " <Memory: [78]new title #72>,\n",
       " <Memory: [79]new title #73>,\n",
       " <Memory: [80]new title #74>,\n",
       " <Memory: [81]new title #75>,\n",
       " <Memory: [82]new title #76>,\n",
       " <Memory: [83]new title #77>,\n",
       " <Memory: [84]new title #78>,\n",
       " <Memory: [85]new title #79>,\n",
       " <Memory: [86]new title #80>,\n",
       " <Memory: [87]new title #81>,\n",
       " <Memory: [88]new title #82>,\n",
       " <Memory: [89]new title #83>,\n",
       " <Memory: [90]new title #84>,\n",
       " <Memory: [91]new title #85>,\n",
       " <Memory: [92]new title #86>,\n",
       " <Memory: [93]new title #87>,\n",
       " <Memory: [94]new title #88>,\n",
       " <Memory: [95]new title #89>,\n",
       " <Memory: [96]new title #90>,\n",
       " <Memory: [97]new title #91>,\n",
       " <Memory: [98]new title #92>,\n",
       " <Memory: [99]new title #93>,\n",
       " <Memory: [100]new title #94>,\n",
       " <Memory: [101]new title #95>,\n",
       " <Memory: [102]new title #96>,\n",
       " <Memory: [103]new title #97>,\n",
       " <Memory: [104]new title #98>,\n",
       " <Memory: [105]new title #99>]"
      ]
     },
     "execution_count": 32,
     "metadata": {},
     "output_type": "execute_result"
    }
   ],
   "source": [
    "Memory.objects.bulk_create(memory_list)"
   ]
  },
  {
   "cell_type": "code",
   "execution_count": null,
   "id": "bc63bca0",
   "metadata": {},
   "outputs": [],
   "source": []
  },
  {
   "cell_type": "code",
   "execution_count": 33,
   "id": "431e714b",
   "metadata": {},
   "outputs": [
    {
     "data": {
      "text/plain": [
       "105"
      ]
     },
     "execution_count": 33,
     "metadata": {},
     "output_type": "execute_result"
    }
   ],
   "source": [
    "Memory.objects.all().count()"
   ]
  },
  {
   "cell_type": "code",
   "execution_count": null,
   "id": "a92cb0fb",
   "metadata": {},
   "outputs": [],
   "source": []
  },
  {
   "cell_type": "code",
   "execution_count": 36,
   "id": "f35883a6",
   "metadata": {},
   "outputs": [
    {
     "name": "stdout",
     "output_type": "stream",
     "text": [
      "21\n"
     ]
    }
   ],
   "source": [
    "qs = Memory.objects.filter(title__icontains='1')\n",
    "print(qs.count())"
   ]
  },
  {
   "cell_type": "code",
   "execution_count": 37,
   "id": "dbdba42c",
   "metadata": {},
   "outputs": [
    {
     "name": "stdout",
     "output_type": "stream",
     "text": [
      "1 타이틀 1\n",
      "3 title#1\n",
      "7 new title #1\n",
      "16 new title #10\n",
      "17 new title #11\n",
      "18 new title #12\n",
      "19 new title #13\n",
      "20 new title #14\n",
      "21 new title #15\n",
      "22 new title #16\n",
      "23 new title #17\n",
      "24 new title #18\n",
      "25 new title #19\n",
      "27 new title #21\n",
      "37 new title #31\n",
      "47 new title #41\n",
      "57 new title #51\n",
      "67 new title #61\n",
      "77 new title #71\n",
      "87 new title #81\n",
      "97 new title #91\n"
     ]
    }
   ],
   "source": [
    "for memory in qs:\n",
    "    print(memory.pk, memory.title)"
   ]
  },
  {
   "cell_type": "code",
   "execution_count": null,
   "id": "c001d3c0",
   "metadata": {},
   "outputs": [],
   "source": []
  }
 ],
 "metadata": {
  "kernelspec": {
   "display_name": "Python 3 (ipykernel)",
   "language": "python",
   "name": "python3"
  },
  "language_info": {
   "codemirror_mode": {
    "name": "ipython",
    "version": 3
   },
   "file_extension": ".py",
   "mimetype": "text/x-python",
   "name": "python",
   "nbconvert_exporter": "python",
   "pygments_lexer": "ipython3",
   "version": "3.9.13"
  }
 },
 "nbformat": 4,
 "nbformat_minor": 5
}
